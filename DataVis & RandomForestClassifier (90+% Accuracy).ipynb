{
 "cells": [
  {
   "cell_type": "markdown",
   "metadata": {},
   "source": [
    "# OSMI Mental Health in Tech (2016, ongoing)"
   ]
  },
  {
   "cell_type": "markdown",
   "metadata": {},
   "source": [
    "## Context\n",
    "\n",
    "* Mental Health (MH) has been an increasingly prominent topic in recent years.\n",
    "* According to the Singapore Association for Mental Health (SAMH), a mental illess \"...is a disturbance of the mind that impairs the way we think, feel and behave. It affects our daily activities, as well as impact the lives of family members and friends.\"\n",
    "* SAMH states that 1 in 7 Singaporeans have experienced a mood or anixety disorder (which are common mental illnesses).\n",
    "* SAMH also states that \"Despite their prevalence, persons with mental illness still face considerable stigma and discrimination. Many such individuals are thus reluctant to seek help and treatment.\"\n",
    "* It is supposed to be beneficial for people suffering from mental illness to firstly recognise it, and secondly, to seek help for it.\n",
    "* Tech companies are anecdotally notorious for endless and high-stress work environment.\n",
    "* As a tech student, I'm personally interested to find out the prevalent attitudes regarding MH in the tech workplace.\n",
    "* I am also interested to identify what company features are most critical in inclining employees towards recognising their Mental Health Disorders (MHD) and seeking help for it.\n",
    "\n",
    "## Objectives\n",
    "1. Explore the data provided in survey for insights into Mental Health.\n",
    "2. Attempt to build Classifiers to predict whether an employee:\n",
    "    1. will be willing to raise MH issues with future employers\n",
    "    2. will seek professional diagnosis for MHD\n",
    "    3. will seek treatment for MHD\n",
    "\n",
    "SAMH: https://www.samhealth.org.sg/understanding-mental-health/what-is-mental-illness/\n",
    "\n",
    "### Datasets required:\n",
    "* `mental-heath-in-tech-2016_20161114.csv` from [Kaggle (OSMI Mental Health in Tech Survey 2016)](https://www.kaggle.com/osmi/mental-health-in-tech-2016)\n",
    "\n",
    "### Outline\n",
    "1. Preview Data\n",
    "2. Data Cleaning\n",
    "    1. Filter out self-employed\n",
    "    2. Drop empty or irrelevant columns\n",
    "    3. Preview Column Values & General Pre-Process\n",
    "    4. Employer Type & Role\n",
    "    5. Age\n",
    "    6. Gender\n",
    "    7. Country of Employment\n",
    "    8. Work Position\n",
    "    9. Mass Rename Columns\n",
    "3. Data Visualisations\n",
    "    1. Mental Health Status across Ages and Genders\n",
    "    2. Mental Health Disorders (MHD)\n",
    "    3. Mental Health Status and Company Size\n",
    "    4. Correlation Matrix of Features  \n",
    "4. Classifiers\n",
    "    1. RFC: Openness about MH with Future Employer (acc: 93%)\n",
    "    2. RFC: Seeking Professional Diagnosis (acc: 90+%)\n",
    "    3. RFC: Seeking Treatment (acc: 90+%)\n",
    "5. Credits\n",
    "    1. Data Visualisation Python Seaborn kernel [https://www.kaggle.com/jchen2186/data-visualization-with-python-seaborn]\n",
    "    2. Preprocessing and Random Forest with 87% accuracy kernel [https://www.kaggle.com/h1rshit/preprocessing-and-random-forest-with-87-accuracy]"
   ]
  },
  {
   "cell_type": "code",
   "execution_count": null,
   "metadata": {},
   "outputs": [],
   "source": [
    "import pandas as pd\n",
    "import numpy as np\n",
    "import scipy as sp\n",
    "import seaborn as sns\n",
    "import matplotlib.pyplot as plt\n",
    "%matplotlib inline\n",
    "\n",
    "pd.options.display.float_format = '{:.2f}'.format\n",
    "pd.set_option('display.max_columns', 64) #63 columns in original data\n",
    "sns.set()\n",
    "\n",
    "dim = (16,8)\n",
    "fs=16"
   ]
  },
  {
   "cell_type": "markdown",
   "metadata": {},
   "source": [
    "## 1. Preview Data"
   ]
  },
  {
   "cell_type": "markdown",
   "metadata": {},
   "source": [
    "* There are 63 features (survey questions) and a total of 1433 respondents.\n",
    "* There are many nan values, which appear to be associated with a respondent being self-employed (see row idx 3).\n",
    "* Respondents who are self-employed will be dropped from this study.\n",
    "* "
   ]
  },
  {
   "cell_type": "code",
   "execution_count": null,
   "metadata": {
    "scrolled": true
   },
   "outputs": [],
   "source": [
    "import os\n",
    "print(os.listdir(\"../input\"))\n",
    "csv_file = '../input/mental-heath-in-tech-2016_20161114.csv'\n",
    "df = pd.read_csv(csv_file)\n",
    "df.shape"
   ]
  },
  {
   "cell_type": "code",
   "execution_count": null,
   "metadata": {},
   "outputs": [],
   "source": [
    "df.head()"
   ]
  },
  {
   "cell_type": "code",
   "execution_count": null,
   "metadata": {},
   "outputs": [],
   "source": [
    "df.describe()"
   ]
  },
  {
   "cell_type": "code",
   "execution_count": null,
   "metadata": {},
   "outputs": [],
   "source": [
    "df.describe(include=['O'])"
   ]
  },
  {
   "cell_type": "markdown",
   "metadata": {},
   "source": [
    "## 2. Data Cleaning"
   ]
  },
  {
   "cell_type": "markdown",
   "metadata": {},
   "source": [
    "### 2.A Filter out self-employed"
   ]
  },
  {
   "cell_type": "code",
   "execution_count": null,
   "metadata": {},
   "outputs": [],
   "source": [
    "df[\"Are you self-employed?\"].value_counts()\n",
    "# there are 287 self-employed and 1146 employed respondents."
   ]
  },
  {
   "cell_type": "code",
   "execution_count": null,
   "metadata": {},
   "outputs": [],
   "source": [
    "# drop self-employed respondents\n",
    "df2 = df.copy()\n",
    "df2 = df2[df2[\"Are you self-employed?\"]==0]\n",
    "df2.shape "
   ]
  },
  {
   "cell_type": "code",
   "execution_count": null,
   "metadata": {},
   "outputs": [],
   "source": [
    "# relook df2\n",
    "df2.head()\n",
    "# notice several columns with many nan values - may need to drop."
   ]
  },
  {
   "cell_type": "code",
   "execution_count": null,
   "metadata": {},
   "outputs": [],
   "source": [
    "df2.describe()\n",
    "# notice that col\n",
    "# \"Do you have medical coverage (private insurance or state-provided) which includes treatment of  mental health issues?\"\n",
    "# is completely empty and will be dropped"
   ]
  },
  {
   "cell_type": "code",
   "execution_count": null,
   "metadata": {},
   "outputs": [],
   "source": [
    "df2.describe(include=['O'])\n",
    "# some columns are completely empty and will be dropped\n",
    "# some columns are irrelevant and will be dropped"
   ]
  },
  {
   "cell_type": "markdown",
   "metadata": {},
   "source": [
    "### 2.B Drop empty or irrelevant columns"
   ]
  },
  {
   "cell_type": "code",
   "execution_count": null,
   "metadata": {},
   "outputs": [],
   "source": [
    "def col_ls(df):\n",
    "    '''\n",
    "    Prints out column names of df and its column index\n",
    "    for ease of reading.\n",
    "    \n",
    "    Also returns a list of column names.'''\n",
    "    ls = []\n",
    "    for i, c in enumerate(df.columns):\n",
    "        print(i, c)\n",
    "        ls.append(c)\n",
    "    return ls\n"
   ]
  },
  {
   "cell_type": "code",
   "execution_count": null,
   "metadata": {
    "scrolled": true
   },
   "outputs": [],
   "source": [
    "df2_col = col_ls(df2)"
   ]
  },
  {
   "cell_type": "code",
   "execution_count": null,
   "metadata": {
    "scrolled": true
   },
   "outputs": [],
   "source": [
    "empty_col = [\n",
    "            \"Do you know local or online resources to seek help for a mental health disorder?\",\n",
    "            \"If you have been diagnosed or treated for a mental health disorder, do you ever reveal this to clients or business contacts?\",\n",
    "            \"If you have revealed a mental health issue to a client or business contact, do you believe this has impacted you negatively?\",\n",
    "            \"If you have been diagnosed or treated for a mental health disorder, do you ever reveal this to coworkers or employees?\",\n",
    "            \"If you have revealed a mental health issue to a coworker or employee, do you believe this has impacted you negatively?\",\n",
    "            \"Do you believe your productivity is ever affected by a mental health issue?\",\n",
    "            \"If yes, what percentage of your work time (time performing primary or secondary job functions) is affected by a mental health issue?\"]\n",
    "empty_col += [df2_col[16]]\n",
    "irre_col = [\"Are you self-employed?\",\n",
    "            \"What US state or territory do you work in?\",\n",
    "           \"What US state or territory do you live in?\",\n",
    "           \"What country do you live in?\",\n",
    "           \"Why or why not?\",\n",
    "           \"Why or why not?.1\"]\n",
    "df3 = df2.copy()\n",
    "df3 = df3.drop(empty_col+irre_col,axis=1)"
   ]
  },
  {
   "cell_type": "code",
   "execution_count": null,
   "metadata": {
    "scrolled": true
   },
   "outputs": [],
   "source": [
    "df3_col = col_ls(df3)"
   ]
  },
  {
   "cell_type": "code",
   "execution_count": null,
   "metadata": {},
   "outputs": [],
   "source": [
    "df3.describe()"
   ]
  },
  {
   "cell_type": "code",
   "execution_count": null,
   "metadata": {},
   "outputs": [],
   "source": [
    "df3.describe(include=['O'])"
   ]
  },
  {
   "cell_type": "markdown",
   "metadata": {},
   "source": [
    "### 2.C Preview Column Values & General Pre-Process\n",
    "* Replace category responses with numeric labels.\n",
    "    * The more affirmative the response is (wrt qn), closer to 1.\n",
    "    * Otherwise, in decreasing order of affirmation, larger integer.\n",
    "    * Non-Applicable & nan responses will be marked -1.\n",
    "    * -1 responses will be dropped from data visualisations, if relevant.\n",
    "* Identify weird columns to drop.\n",
    "    * Such as columns with many missing & unaccounted responses.\n",
    "* Identify potential target columns.\n",
    "* Identify columns that require special attention to process."
   ]
  },
  {
   "cell_type": "code",
   "execution_count": null,
   "metadata": {},
   "outputs": [],
   "source": [
    "def val(df):\n",
    "    '''\n",
    "    Prints out columns, its unique values and value counts,\n",
    "    as well as null value count.\n",
    "    To aid in data cleaning.'''\n",
    "    for i, c in enumerate(df.columns):\n",
    "        print(i,c)\n",
    "        print()\n",
    "        unique = df[c].unique()\n",
    "        if len(unique) > 10:\n",
    "            print(\"### More than 10 unique values. ###\")\n",
    "            print('### Special attention required for col\\n{} {}\\n###'.format(i,c))\n",
    "            print()\n",
    "        else:\n",
    "            print(unique)\n",
    "            print()\n",
    "            print(df[c].value_counts())\n",
    "            vc = df[c].value_counts().sum()\n",
    "            print()\n",
    "            print(\"Value count: \",vc)\n",
    "        nc = df[c].isna().sum()\n",
    "        print(\"Null value count: \",nc)\n",
    "        print(\"Null %: {:.2f}%\".format(100*nc/(nc+vc)))            \n",
    "        print()"
   ]
  },
  {
   "cell_type": "code",
   "execution_count": null,
   "metadata": {},
   "outputs": [],
   "source": [
    "# preview columns, values, counts, etc\n",
    "# identify columns that require special attention\n",
    "# i.e. more than 10 unique values\n",
    "val(df3)"
   ]
  },
  {
   "cell_type": "code",
   "execution_count": null,
   "metadata": {},
   "outputs": [],
   "source": [
    "df4 = df3.copy()\n",
    "\n",
    "###\n",
    "rp_col = \"How many employees does your company or organization have?\"\n",
    "# fill na\n",
    "# df4[cdf4[rp_col]] = df4[cdf4[rp_col]].fillna(-1)\n",
    "# replace labels with\n",
    "rp_dt = {'1-5':1,\n",
    "        '6-25':6,\n",
    "        '26-100':26,\n",
    "        '100-500':101,\n",
    "        '500-1000':501,\n",
    "        'More than 1000':1001}\n",
    "\n",
    "df4[rp_col] = df4[rp_col].replace(rp_dt)\n",
    "\n",
    "###\n",
    "rp_col = \"Is your primary role within your company related to tech/IT?\"\n",
    "df4[rp_col] = df4[rp_col].fillna(-1) #for NA\n",
    "\n",
    "rp_col = \"Does your employer provide mental health benefits as part of healthcare coverage?\"\n",
    "rp_dt = {'Yes':1, # positive/yes response to qn will be 1\n",
    "        \"I don't know\":2, # responses in increasing negativity will be 2 onwards\n",
    "        'No':3,\n",
    "        'Not eligible for coverage / N/A':-1\n",
    "        }\n",
    "\n",
    "df4[rp_col] = df4[rp_col].replace(rp_dt)\n",
    "\n",
    "###\n",
    "rp_col = \"Do you know the options for mental health care available under your employer-provided coverage?\"\n",
    "df4[rp_col] = df4[rp_col].fillna(-1) #for NA\n",
    "rp_dt = {'Yes':1, # positive/yes response to qn will be 1\n",
    "        'I am not sure':2, # responses in increasing negativity will be 2 onwards\n",
    "        'No':3,\n",
    "        }\n",
    "\n",
    "df4[rp_col] = df4[rp_col].replace(rp_dt)\n",
    "\n",
    "###\n",
    "rp_col = \"Has your employer ever formally discussed mental health (for example, as part of a wellness campaign or other official communication)?\"\n",
    "df4[rp_col] = df4[rp_col].fillna(-1) #for NA\n",
    "rp_dt = {'Yes':1, # positive/yes response to qn will be 1\n",
    "        \"I don't know\":2, # responses in increasing negativity will be 2 onwards\n",
    "        'No':3,\n",
    "        }\n",
    "\n",
    "df4[rp_col] = df4[rp_col].replace(rp_dt)\n",
    "\n",
    "###\n",
    "rp_col = \"Does your employer offer resources to learn more about mental health concerns and options for seeking help?\"\n",
    "df4[rp_col] = df4[rp_col].fillna(-1) #for NA\n",
    "rp_dt = {'Yes':1, # positive/yes response to qn will be 1\n",
    "        \"I don't know\":2, # responses in increasing negativity will be 2 onwards\n",
    "        'No':3,\n",
    "        }\n",
    "\n",
    "df4[rp_col] = df4[rp_col].replace(rp_dt)\n",
    "\n",
    "###\n",
    "rp_col = \"Is your anonymity protected if you choose to take advantage of mental health or substance abuse treatment resources provided by your employer?\"\n",
    "df4[rp_col] = df4[rp_col].fillna(-1) #for NA\n",
    "rp_dt = {'Yes':1, # positive/yes response to qn will be 1\n",
    "        \"I don't know\":2, # responses in increasing negativity will be 2 onwards\n",
    "        'No':3,\n",
    "        }\n",
    "\n",
    "df4[rp_col] = df4[rp_col].replace(rp_dt)\n",
    "\n",
    "###\n",
    "rp_col = \"If a mental health issue prompted you to request a medical leave from work, asking for that leave would be:\"\n",
    "df4[rp_col] = df4[rp_col].fillna(-1) #for NA\n",
    "rp_dt = {\"Very easy\":1, # positive/yes response to qn will be 1\n",
    "        \"Somewhat easy\":2, # responses in increasing negativity will be 2 onwards\n",
    "        \"Neither easy nor difficult\":3,\n",
    "         \"I don't know\":3,\n",
    "         \"Somewhat difficult\":4,\n",
    "         \"Very difficult\":5\n",
    "        }\n",
    "\n",
    "df4[rp_col] = df4[rp_col].replace(rp_dt)\n",
    "\n",
    "###\n",
    "rp_col = \"Do you think that discussing a mental health disorder with your employer would have negative consequences?\"\n",
    "df4[rp_col] = df4[rp_col].fillna(-1) #for NA\n",
    "rp_dt = {'Yes':1, # positive/yes response to qn will be 1\n",
    "        'Maybe':2, # responses in increasing negativity will be 2 onwards\n",
    "         'No':3,\n",
    "        }\n",
    "\n",
    "df4[rp_col] = df4[rp_col].replace(rp_dt)\n",
    "\n",
    "###\n",
    "rp_col = \"Do you think that discussing a physical health issue with your employer would have negative consequences?\"\n",
    "df4[rp_col] = df4[rp_col].fillna(-1) #for NA\n",
    "rp_dt = {'Yes':1, # positive/yes response to qn will be 1\n",
    "        'Maybe':2, # responses in increasing negativity will be 2 onwards,\n",
    "         'No':3,\n",
    "        }\n",
    "\n",
    "df4[rp_col] = df4[rp_col].replace(rp_dt)\n",
    "\n",
    "###\n",
    "rp_col = \"Would you feel comfortable discussing a mental health disorder with your coworkers?\"\n",
    "df4[rp_col] = df4[rp_col].fillna(-1) #for NA\n",
    "rp_dt = {'Yes':1, # positive/yes response to qn will be 1\n",
    "        'Maybe':2, # responses in increasing negativity will be 2 onwards,\n",
    "         'No':3,\n",
    "        }\n",
    "\n",
    "df4[rp_col] = df4[rp_col].replace(rp_dt)\n",
    "\n",
    "###\n",
    "rp_col = \"Would you feel comfortable discussing a mental health disorder with your direct supervisor(s)?\"\n",
    "df4[rp_col] = df4[rp_col].fillna(-1) #for NA\n",
    "rp_dt = {'Yes':1, # positive/yes response to qn will be 1\n",
    "        'Maybe':2, # responses in increasing negativity will be 2 onwards,\n",
    "         'No':3,\n",
    "        }\n",
    "\n",
    "df4[rp_col] = df4[rp_col].replace(rp_dt)\n",
    "\n",
    "###\n",
    "rp_col = \"Do you feel that your employer takes mental health as seriously as physical health?\"\n",
    "df4[rp_col] = df4[rp_col].fillna(-1) #for NA\n",
    "rp_dt = {'Yes':1, # positive/yes response to qn will be 1\n",
    "        \"I don't know\":2, # responses in increasing negativity will be 2 onwards,\n",
    "         'No':3,\n",
    "        }\n",
    "\n",
    "df4[rp_col] = df4[rp_col].replace(rp_dt)\n",
    "\n",
    "###\n",
    "rp_col = \"Have you heard of or observed negative consequences for co-workers who have been open about mental health issues in your workplace?\"\n",
    "df4[rp_col] = df4[rp_col].fillna(-1) #for NA\n",
    "rp_dt = {'Yes':1, # positive/yes response to qn will be 1\n",
    "        'No':2, # responses in increasing negativity will be 2 onwards,\n",
    "        }\n",
    "\n",
    "df4[rp_col] = df4[rp_col].replace(rp_dt)\n",
    "\n",
    "###\n",
    "rp_col = \"Do you have previous employers?\"\n",
    "df4[rp_col] = df4[rp_col].fillna(-1) #for NA\n",
    "rp_dt = {0:2 # replace 0 (no) with 2 for consistency\n",
    "        }\n",
    "\n",
    "df4[rp_col] = df4[rp_col].replace(rp_dt)\n",
    "\n",
    "###\n",
    "rp_col = \"Have your previous employers provided mental health benefits?\"\n",
    "df4[rp_col] = df4[rp_col].fillna(-1) #for NA\n",
    "rp_dt = {'Yes, they all did':1, # positive/yes response to qn will be 1\n",
    "        'Some did':2, # responses in increasing negativity will be 2 onwards,\n",
    "        \"I don't know\":3,\n",
    "         'No, none did':4\n",
    "        }\n",
    "\n",
    "df4[rp_col] = df4[rp_col].replace(rp_dt)\n",
    "\n",
    "###\n",
    "rp_col = \"Were you aware of the options for mental health care provided by your previous employers?\"\n",
    "df4[rp_col] = df4[rp_col].fillna(-1) #for NA\n",
    "rp_dt = {'Yes, I was aware of all of them':1, # positive/yes response to qn will be 1\n",
    "        'I was aware of some':2, # responses in increasing negativity will be 2 onwards,\n",
    "        'No, I only became aware later':3,\n",
    "         'N/A (not currently aware)':4\n",
    "        }\n",
    "\n",
    "df4[rp_col] = df4[rp_col].replace(rp_dt)\n",
    "\n",
    "###\n",
    "rp_col = \"Did your previous employers ever formally discuss mental health (as part of a wellness campaign or other official communication)?\"\n",
    "df4[rp_col] = df4[rp_col].fillna(-1) #for NA\n",
    "rp_dt = {'Yes, they all did':1, # positive/yes response to qn will be 1\n",
    "        'Some did':2, # responses in increasing negativity will be 2 onwards,\n",
    "        \"I don't know\":3,\n",
    "         'None did':4\n",
    "        }\n",
    "\n",
    "df4[rp_col] = df4[rp_col].replace(rp_dt)\n",
    "\n",
    "###\n",
    "rp_col = \"Did your previous employers provide resources to learn more about mental health issues and how to seek help?\"\n",
    "df4[rp_col] = df4[rp_col].fillna(-1) #for NA\n",
    "rp_dt = {'Yes, they all did':1, # positive/yes response to qn will be 1\n",
    "        'Some did':2, # responses in increasing negativity will be 2 onwards,\n",
    "        \"I don't know\":3,\n",
    "         'None did':4\n",
    "        }\n",
    "\n",
    "df4[rp_col] = df4[rp_col].replace(rp_dt)\n",
    "\n",
    "###\n",
    "rp_col = \"Was your anonymity protected if you chose to take advantage of mental health or substance abuse treatment resources with previous employers?\"\n",
    "df4[rp_col] = df4[rp_col].fillna(-1) #for NA\n",
    "rp_dt = {'Yes, always':1, # positive/yes response to qn will be 1\n",
    "        'Sometimes':2, # responses in increasing negativity will be 2 onwards,\n",
    "        \"I don't know\":3,\n",
    "         'No':4\n",
    "        }\n",
    "\n",
    "df4[rp_col] = df4[rp_col].replace(rp_dt)\n",
    "\n",
    "###\n",
    "rp_col = \"Do you think that discussing a mental health disorder with previous employers would have negative consequences?\"\n",
    "df4[rp_col] = df4[rp_col].fillna(-1) #for NA\n",
    "rp_dt = {'Yes, all of them':1, # positive/yes response to qn will be 1\n",
    "        'Some of them':2, # responses in increasing negativity will be 2 onwards,\n",
    "        \"I don't know\":3,\n",
    "         'None of them':4\n",
    "        }\n",
    "\n",
    "df4[rp_col] = df4[rp_col].replace(rp_dt)\n",
    "\n",
    "###\n",
    "rp_col = \"Do you think that discussing a physical health issue with previous employers would have negative consequences?\"\n",
    "df4[rp_col] = df4[rp_col].fillna(-1) #for NA\n",
    "rp_dt = {'Yes, all of them':1, # positive/yes response to qn will be 1\n",
    "        'Some of them':2, # responses in increasing negativity will be 2 onwards,\n",
    "         'None of them':3\n",
    "        }\n",
    "\n",
    "df4[rp_col] = df4[rp_col].replace(rp_dt)\n",
    "\n",
    "###\n",
    "rp_col = \"Would you have been willing to discuss a mental health issue with your previous co-workers?\"\n",
    "df4[rp_col] = df4[rp_col].fillna(-1) #for NA\n",
    "rp_dt = {'Yes, at all of my previous employers':1, # positive/yes response to qn will be 1\n",
    "        'Some of my previous employers':2, # responses in increasing negativity will be 2 onwards,\n",
    "         'No, at none of my previous employers':3\n",
    "        }\n",
    "\n",
    "df4[rp_col] = df4[rp_col].replace(rp_dt)\n",
    "\n",
    "###\n",
    "rp_col = \"Would you have been willing to discuss a mental health issue with your direct supervisor(s)?\"\n",
    "df4[rp_col] = df4[rp_col].fillna(-1) #for NA\n",
    "rp_dt = {'Yes, at all of my previous employers':1, # positive/yes response to qn will be 1\n",
    "        'Some of my previous employers':2, # responses in increasing negativity will be 2 onwards,\n",
    "         \"I don't know\":3,\n",
    "         'No, at none of my previous employers':4\n",
    "        }\n",
    "\n",
    "df4[rp_col] = df4[rp_col].replace(rp_dt)\n",
    "\n",
    "###\n",
    "rp_col = \"Did you feel that your previous employers took mental health as seriously as physical health?\"\n",
    "df4[rp_col] = df4[rp_col].fillna(-1) #for NA\n",
    "rp_dt = {'Yes, they all did':1, # positive/yes response to qn will be 1\n",
    "        'Some did':2, # responses in increasing negativity will be 2 onwards,\n",
    "        \"I don't know\":3,\n",
    "         'None did':4\n",
    "        }\n",
    "\n",
    "df4[rp_col] = df4[rp_col].replace(rp_dt)\n",
    "\n",
    "###\n",
    "rp_col = \"Did you hear of or observe negative consequences for co-workers with mental health issues in your previous workplaces?\"\n",
    "df4[rp_col] = df4[rp_col].fillna(-1) #for NA\n",
    "rp_dt = {'Yes, all of them':1, # positive/yes response to qn will be 1\n",
    "        'Some of them':2, # responses in increasing negativity will be 2 onwards,\n",
    "         'None of them':3\n",
    "        }\n",
    "\n",
    "df4[rp_col] = df4[rp_col].replace(rp_dt)\n",
    "\n",
    "###\n",
    "rp_col = \"Would you be willing to bring up a physical health issue with a potential employer in an interview?\"\n",
    "df4[rp_col] = df4[rp_col].fillna(-1) #for NA\n",
    "rp_dt = {'Yes':1, # positive/yes response to qn will be 1\n",
    "        'Maybe':2, # responses in increasing negativity will be 2 onwards,\n",
    "         'No':3,\n",
    "        }\n",
    "\n",
    "df4[rp_col] = df4[rp_col].replace(rp_dt)\n",
    "\n",
    "###\n",
    "rp_col = \"Would you bring up a mental health issue with a potential employer in an interview?\"\n",
    "df4[rp_col] = df4[rp_col].fillna(-1) #for NA\n",
    "rp_dt = {'Yes':1, # positive/yes response to qn will be 1\n",
    "        'Maybe':2, # responses in increasing negativity will be 2 onwards,\n",
    "         'No':3,\n",
    "        }\n",
    "\n",
    "df4[rp_col] = df4[rp_col].replace(rp_dt)\n",
    "\n",
    "###\n",
    "rp_col = \"Do you feel that being identified as a person with a mental health issue would hurt your career?\"\n",
    "df4[rp_col] = df4[rp_col].fillna(-1) #for NA\n",
    "rp_dt = {'Yes, it has':1, # positive/yes response to qn will be 1\n",
    "        'Yes, I think it would':2, # responses in increasing negativity will be 2 onwards,\n",
    "        'Maybe':3,\n",
    "         \"No, I don't think it would\":4,\n",
    "         'No, it has not':5\n",
    "        }\n",
    "\n",
    "df4[rp_col] = df4[rp_col].replace(rp_dt)\n",
    "\n",
    "###\n",
    "rp_col = \"Do you think that team members/co-workers would view you more negatively if they knew you suffered from a mental health issue?\"\n",
    "df4[rp_col] = df4[rp_col].fillna(-1) #for NA\n",
    "rp_dt = {'Yes, they do':1, # positive/yes response to qn will be 1\n",
    "         'Yes, I think they would':2, # responses in increasing negativity will be 2 onwards,\n",
    "        'Maybe':3,\n",
    "         \"No, I don't think they would\":4,\n",
    "         'No, they do not':5\n",
    "        }\n",
    "\n",
    "df4[rp_col] = df4[rp_col].replace(rp_dt)\n",
    "\n",
    "###\n",
    "rp_col = \"How willing would you be to share with friends and family that you have a mental illness?\"\n",
    "df4[rp_col] = df4[rp_col].fillna(-1) #for NA\n",
    "rp_dt = {'Very open':1, # positive/yes response to qn will be 1\n",
    "         'Somewhat open':2, # responses in increasing negativity will be 2 onwards,\n",
    "        'Neutral':3,\n",
    "         'Somewhat not open':4,\n",
    "         'Not open at all':5,\n",
    "         'Not applicable to me (I do not have a mental illness)':-1\n",
    "        }\n",
    "\n",
    "df4[rp_col] = df4[rp_col].replace(rp_dt)\n",
    "\n",
    "###\n",
    "rp_col = \"Have you observed or experienced an unsupportive or badly handled response to a mental health issue in your current or previous workplace?\"\n",
    "df4[rp_col] = df4[rp_col].fillna(-1) #for NA\n",
    "rp_dt = {'Yes, I experienced':1, # positive/yes response to qn will be 1\n",
    "         'Yes, I observed':2, # responses in increasing negativity will be 2 onwards,\n",
    "        'Maybe/Not sure':3,\n",
    "         'No':4,\n",
    "        }\n",
    "\n",
    "df4[rp_col] = df4[rp_col].replace(rp_dt)\n",
    "\n",
    "###\n",
    "rp_col = \"Have your observations of how another individual who discussed a mental health disorder made you less likely to reveal a mental health issue yourself in your current workplace?\"\n",
    "# nan values is 55.41%; unsure what is the cause of nan values\n",
    "# drop column\n",
    "df4 = df4.drop([rp_col],axis=1)\n",
    "\n",
    "###\n",
    "rp_col = \"Do you have a family history of mental illness?\"\n",
    "df4[rp_col] = df4[rp_col].fillna(-1) #for NA\n",
    "rp_dt = {'Yes':1, # positive/yes response to qn will be 1\n",
    "        \"I don't know\":2, # responses in increasing negativity will be 2 onwards\n",
    "        'No':3,\n",
    "        }\n",
    "\n",
    "df4[rp_col] = df4[rp_col].replace(rp_dt)\n",
    "\n",
    "###\n",
    "rp_col = \"Have you had a mental health disorder in the past?\"\n",
    "df4[rp_col] = df4[rp_col].fillna(-1) #for NA\n",
    "rp_dt = {'Yes':1, # positive/yes response to qn will be 1\n",
    "        'Maybe':2, # responses in increasing negativity will be 2 onwards,\n",
    "         'No':3,\n",
    "        }\n",
    "\n",
    "df4[rp_col] = df4[rp_col].replace(rp_dt)\n",
    "\n",
    "###\n",
    "rp_col = \"Do you currently have a mental health disorder?\"\n",
    "# potential target column or key X column\n",
    "df4[rp_col] = df4[rp_col].fillna(-1) #for NA\n",
    "rp_dt = {'Yes':1, # positive/yes response to qn will be 1\n",
    "        'Maybe':2, # responses in increasing negativity will be 2 onwards,\n",
    "         'No':3,\n",
    "        }\n",
    "\n",
    "df4[rp_col] = df4[rp_col].replace(rp_dt)\n",
    "\n",
    "###\n",
    "rp_col = \"Have you been diagnosed with a mental health condition by a medical professional?\"\n",
    "df4[rp_col] = df4[rp_col].fillna(-1) #for NA\n",
    "rp_dt = {'Yes':1, # positive/yes response to qn will be 1\n",
    "        'No':2, # responses in increasing negativity will be 2 onwards,\n",
    "        }\n",
    "\n",
    "df4[rp_col] = df4[rp_col].replace(rp_dt)\n",
    "\n",
    "###\n",
    "rp_col = \"Have you ever sought treatment for a mental health issue from a mental health professional?\"\n",
    "df4[rp_col] = df4[rp_col].fillna(-1) #for NA\n",
    "rp_dt = {1:1, # positive/yes response to qn will be 1\n",
    "        0:2, # responses in increasing negativity will be 2 onwards,\n",
    "        }\n",
    "\n",
    "df4[rp_col] = df4[rp_col].replace(rp_dt)\n",
    "\n",
    "###\n",
    "rp_col = \"If you have a mental health issue, do you feel that it interferes with your work when being treated effectively?\"\n",
    "df4[rp_col] = df4[rp_col].fillna(-1) #for NA\n",
    "rp_dt = {'Often':1, # positive/yes response to qn will be 1\n",
    "        'Sometimes':2, # responses in increasing negativity will be 2 onwards,\n",
    "        'Rarely':3,\n",
    "        'Never':4,\n",
    "        'Not applicable to me':-1}\n",
    "\n",
    "df4[rp_col] = df4[rp_col].replace(rp_dt)\n",
    "\n",
    "###\n",
    "rp_col = \"If you have a mental health issue, do you feel that it interferes with your work when NOT being treated effectively?\"\n",
    "df4[rp_col] = df4[rp_col].fillna(-1) #for NA\n",
    "rp_dt = {'Often':1, # positive/yes response to qn will be 1\n",
    "        'Sometimes':2, # responses in increasing negativity will be 2 onwards,\n",
    "        'Rarely':3,\n",
    "        'Never':4,\n",
    "        'Not applicable to me':-1}\n",
    "\n",
    "df4[rp_col] = df4[rp_col].replace(rp_dt)\n",
    "\n",
    "###\n",
    "rp_col = \"Do you work remotely?\"\n",
    "df4[rp_col] = df4[rp_col].fillna(-1) #for NA\n",
    "rp_dt = {'Always':1, # positive/yes response to qn will be 1\n",
    "        'Sometimes':2, # responses in increasing negativity will be 2 onwards,\n",
    "        'Never':3,\n",
    "       }\n",
    "\n",
    "df4[rp_col] = df4[rp_col].replace(rp_dt)\n",
    "\n",
    "#####\n",
    "df4.describe(include='all')"
   ]
  },
  {
   "cell_type": "markdown",
   "metadata": {},
   "source": [
    "### 2.D Employer Type & Role"
   ]
  },
  {
   "cell_type": "code",
   "execution_count": null,
   "metadata": {},
   "outputs": [],
   "source": [
    "df4[\"Is your employer primarily a tech company/organization?\"].value_counts()\n",
    "# employer of 263 respondents is not primarily tech\n",
    "# there are 883 respondents whose employers are primarily tech"
   ]
  },
  {
   "cell_type": "code",
   "execution_count": null,
   "metadata": {},
   "outputs": [],
   "source": [
    "df4[\"Is your primary role within your company related to tech/IT?\"].value_counts()\n",
    "# 883 '-1' responses correspond to num of respondents whose employers are primarily tech\n",
    "# 15 respondents are neither in a tech company nor in a tech role\n",
    "# these 15 respondents will be dropped\n",
    "# expect 883+248 = 1131 rows left"
   ]
  },
  {
   "cell_type": "code",
   "execution_count": null,
   "metadata": {},
   "outputs": [],
   "source": [
    "# drop 15 respondents who are neither in tech company nor in tech role\n",
    "df5 = df4.copy()\n",
    "df5 = df5[df5[\"Is your primary role within your company related to tech/IT?\"].isin([-1,1])]\n",
    "df5.shape\n",
    "# (1131, 48)\n"
   ]
  },
  {
   "cell_type": "code",
   "execution_count": null,
   "metadata": {
    "scrolled": true
   },
   "outputs": [],
   "source": [
    "# rename first column, drop other column\n",
    "err_msg = \"Column has been dropped, renamed, or does not exist.\"\n",
    "try: \n",
    "    df5 = df5.rename(columns={\"Is your employer primarily a tech company/organization?\":\"tech_company_or_role\"})\n",
    "    df5 = df5.drop([\"Is your primary role within your company related to tech/IT?\"],axis=1)\n",
    "except:\n",
    "    print(err_msg)\n",
    "    \n",
    "df5.head(1)    "
   ]
  },
  {
   "cell_type": "markdown",
   "metadata": {},
   "source": [
    "### 2.E Age\n",
    "* The IQR method of identifying outliers may not work well in this situation.\n",
    "* Instead, common sense will be applied.\n",
    "* Values below minimum legal working age of 13 (SG: 13; US: 14) will be replaced with mode age of 32.\n",
    "* Values more than a decade above retirement age of 62 (SG: 62; US: 66) will be replaced with mode age of 32.\n",
    "* This approach assumes that ages below 13 and above 72 are incorrect - either due to typos or intentional obscuration."
   ]
  },
  {
   "cell_type": "code",
   "execution_count": null,
   "metadata": {},
   "outputs": [],
   "source": [
    "# brief detour:\n",
    "# drop both MHDD and MHDS\n",
    "# these columns will be dealt with in a later section 3.B\n",
    "df6 = df5.copy()\n",
    "df6 = df6.drop([\"If yes, what condition(s) have you been diagnosed with?\",\n",
    "         \"If maybe, what condition(s) do you believe you have?\",\n",
    "               \"If so, what condition(s) were you diagnosed with?\"],axis=1)\n",
    "df6.head(1)"
   ]
  },
  {
   "cell_type": "code",
   "execution_count": null,
   "metadata": {},
   "outputs": [],
   "source": [
    "\n",
    "df6['What is your age?'].describe()\n",
    "# min: 3, max 323 - weird values!"
   ]
  },
  {
   "cell_type": "code",
   "execution_count": null,
   "metadata": {},
   "outputs": [],
   "source": [
    "def rp_age(age):\n",
    "    '''\n",
    "    Replaces age below min or age above max with mode age.\n",
    "    Else, returns age.'''\n",
    "    mode = 32\n",
    "    low,up = 13,72\n",
    "    if age < 13: return mode\n",
    "    elif age > 72: return mode\n",
    "    else: return int(age)"
   ]
  },
  {
   "cell_type": "code",
   "execution_count": null,
   "metadata": {},
   "outputs": [],
   "source": [
    "# replace age\n",
    "df6['What is your age?'] = df6['What is your age?'].apply(rp_age)"
   ]
  },
  {
   "cell_type": "markdown",
   "metadata": {},
   "source": [
    "### 2.F Gender\n",
    "* The survey made gender a freeform field for gender input.\n",
    "* There were different ways of indicating the same gender, and a myriad of other gender types.\n",
    "* As much as possible, each individual's response will be respected. Obvious male or female responses will be mapped to 1 and 2 respectively, while any other response will be mapped to 3.\n",
    "    * eg a transgender male will be assigned 1 (male)"
   ]
  },
  {
   "cell_type": "code",
   "execution_count": null,
   "metadata": {
    "scrolled": true
   },
   "outputs": [],
   "source": [
    "df6[\"What is your gender?\"].value_counts()\n",
    "# many ways to say same thing\n",
    "# 'Others' category needed to hold responses that are not obviously 'Male' or 'Female'"
   ]
  },
  {
   "cell_type": "code",
   "execution_count": null,
   "metadata": {},
   "outputs": [],
   "source": [
    "df7 = df6.copy()\n",
    "# prepare replacement lists\n",
    "male_ls = ['Male','male', 'Male ', 'M', 'm', 'man', 'Cis male',\n",
    "           'Male.', 'Male (cis)', 'Man', 'Sex is male',\n",
    "           'cis male', 'Malr', 'Dude', \"I'm a man why didn't you make this a drop down question. You should of asked sex? And I would of answered yes please. Seriously how much text can this take? \",\n",
    "           'mail', 'M|', 'male ', 'Cis Male', 'Male (trans, FtM)',\n",
    "           'cisdude', 'cis man', 'MALE']\n",
    "# FYI: cisgender: describes a person who identifies as the same gender assigned at birth\n",
    "female_ls = ['Female','female', 'I identify as female.', 'female ',\n",
    "             'Female assigned at birth ', 'F', 'Woman', 'fm', 'f',\n",
    "             'Cis female', 'Transitioned, M2F', 'Female or Multi-Gender Femme',\n",
    "             'Female ', 'woman', 'female/woman', 'Cisgender Female', \n",
    "             'mtf', 'fem', 'Female (props for making this a freeform field, though)',\n",
    "             ' Female', 'Cis-woman', 'AFAB', 'Transgender woman',\n",
    "             'Cis female ']\n",
    "# FYI: AFAB: assigned female at birth\n",
    "other_ls = ['Bigender', 'non-binary,', 'Genderfluid (born female)',\n",
    "            'Other/Transfeminine', 'Androgynous', 'male 9:1 female, roughly',\n",
    "            'nb masculine', 'genderqueer', 'Human', 'Genderfluid',\n",
    "            'Enby', 'genderqueer woman', 'Queer', 'Agender', 'Fluid',\n",
    "            'Genderflux demi-girl', 'female-bodied; no feelings about gender',\n",
    "            'non-binary', 'Male/genderqueer', 'Nonbinary', 'Other', 'none of your business',\n",
    "            'Unicorn', 'human', 'Genderqueer']\n",
    "\n",
    "# replace gender values with numberic labels\n",
    "df7[\"What is your gender?\"] = df7[\"What is your gender?\"].replace(male_ls,1)\n",
    "df7[\"What is your gender?\"] = df7[\"What is your gender?\"].replace(female_ls,2)\n",
    "df7[\"What is your gender?\"] = df7[\"What is your gender?\"].replace(other_ls,3)\n",
    "df7[\"What is your gender?\"] = df7[\"What is your gender?\"].fillna(3)\n",
    "df7[\"What is your gender?\"].unique()\n"
   ]
  },
  {
   "cell_type": "markdown",
   "metadata": {},
   "source": [
    "### 2.G Country of Employment\n",
    "* Each unique country is replaced with a numeric label.\n",
    "* Country can be identified with country_rp_dt with key:value of label:country"
   ]
  },
  {
   "cell_type": "code",
   "execution_count": null,
   "metadata": {},
   "outputs": [],
   "source": [
    "df8 = df7.copy()\n",
    "country_rp_dt = {}\n",
    "for idx, name in enumerate(df8['What country do you work in?'].unique()):\n",
    "#     print(idx, name)\n",
    "    country_rp_dt[name] = idx\n",
    "# country_rp_dt\n",
    "df8['What country do you work in?'] = df8['What country do you work in?'].replace(country_rp_dt)\n"
   ]
  },
  {
   "cell_type": "markdown",
   "metadata": {},
   "source": [
    "### 2.H Work Position\n",
    "* I'm not too interested in the work positions of respondents, although it may be interesting to identify whether any particular current work position is correlated to having a particular current MHD.\n",
    "* For now I will extract the work position column into a separate Series and drop it from the main df8 to form df9."
   ]
  },
  {
   "cell_type": "code",
   "execution_count": null,
   "metadata": {},
   "outputs": [],
   "source": [
    "df8.head()"
   ]
  },
  {
   "cell_type": "code",
   "execution_count": null,
   "metadata": {},
   "outputs": [],
   "source": [
    "# extract column\n",
    "work_pos_s = df8['Which of the following best describes your work position?']\n"
   ]
  },
  {
   "cell_type": "code",
   "execution_count": null,
   "metadata": {},
   "outputs": [],
   "source": [
    "df9 = df8.copy()\n",
    "df9 = df9.drop([\"Which of the following best describes your work position?\"],axis=1)\n",
    "df9.head(1)"
   ]
  },
  {
   "cell_type": "markdown",
   "metadata": {},
   "source": [
    "### 2.I Mass Rename Columns\n",
    "* for easy handling when doing classification"
   ]
  },
  {
   "cell_type": "code",
   "execution_count": null,
   "metadata": {
    "scrolled": true
   },
   "outputs": [],
   "source": [
    "# for easy viewing\n",
    "cdf9 = col_ls(df9)"
   ]
  },
  {
   "cell_type": "code",
   "execution_count": null,
   "metadata": {},
   "outputs": [],
   "source": [
    "df10 = df9.copy()\n",
    "\n",
    "df_rn_dt = {\n",
    "    \"How many employees does your company or organization have?\":\"num_employees\",\n",
    "    \"Does your employer provide mental health benefits as part of healthcare coverage?\":\"cep_benefits\",\n",
    "    \"Do you know the options for mental health care available under your employer-provided coverage?\":\"cep_know_options\",\n",
    "    \"Has your employer ever formally discussed mental health (for example, as part of a wellness campaign or other official communication)?\":\"cep_discuss\",\n",
    "    \"Does your employer offer resources to learn more about mental health concerns and options for seeking help?\":\"cep_learn\",\n",
    "    \"Is your anonymity protected if you choose to take advantage of mental health or substance abuse treatment resources provided by your employer?\":\"cep_anon\",\n",
    "    \"If a mental health issue prompted you to request a medical leave from work, asking for that leave would be:\":\"cep_mh_leave\",\n",
    "    \"Do you think that discussing a mental health disorder with your employer would have negative consequences?\":\"cep_mh_ncsq\",\n",
    "    \"Do you think that discussing a physical health issue with your employer would have negative consequences?\":\"cep_ph_ncsq\",\n",
    "    \"Would you feel comfortable discussing a mental health disorder with your coworkers?\":\"cep_comf_cw\",\n",
    "    \"Would you feel comfortable discussing a mental health disorder with your direct supervisor(s)?\":\"cep_comf_sup\",\n",
    "    \"Do you feel that your employer takes mental health as seriously as physical health?\":\"cep_serious\",\n",
    "    \"Have you heard of or observed negative consequences for co-workers who have been open about mental health issues in your workplace?\":\"cep_others_ncsq\",\n",
    "    \"Do you have previous employers?\":\"pep_have\",\n",
    "    \"Have your previous employers provided mental health benefits?\":\"pep_benefits\",\n",
    "    \"Were you aware of the options for mental health care provided by your previous employers?\":\"pep_know_options\",\n",
    "    \"Did your previous employers ever formally discuss mental health (as part of a wellness campaign or other official communication)?\":\"pep_discuss\",\n",
    "    \"Did your previous employers provide resources to learn more about mental health issues and how to seek help?\":\"pep_learn\",\n",
    "    \"Was your anonymity protected if you chose to take advantage of mental health or substance abuse treatment resources with previous employers?\":\"pep_anon\",\n",
    "    \"Do you think that discussing a mental health disorder with previous employers would have negative consequences?\":\"pep_mh_ncsq\",\n",
    "    \"Do you think that discussing a physical health issue with previous employers would have negative consequences?\":\"pep_ph_ncsq\",\n",
    "    \"Would you have been willing to discuss a mental health issue with your previous co-workers?\":\"pep_comf_cw\",\n",
    "    \"Would you have been willing to discuss a mental health issue with your direct supervisor(s)?\":\"pep_comf_sup\",\n",
    "    \"Did you feel that your previous employers took mental health as seriously as physical health?\":\"pep_serious\",\n",
    "    \"Did you hear of or observe negative consequences for co-workers with mental health issues in your previous workplaces?\":\"pep_others_ncsq\",\n",
    "    \"Would you be willing to bring up a physical health issue with a potential employer in an interview?\":\"fep_ph_willing\",\n",
    "    \"Would you bring up a mental health issue with a potential employer in an interview?\":\"fep_mh_willing\",\n",
    "    \"Do you feel that being identified as a person with a mental health issue would hurt your career?\":\"hurt_career\",\n",
    "    \"Do you think that team members/co-workers would view you more negatively if they knew you suffered from a mental health issue?\":\"cw_view_neg\",\n",
    "    \"How willing would you be to share with friends and family that you have a mental illness?\":\"comf_ff\",\n",
    "    \"Have you observed or experienced an unsupportive or badly handled response to a mental health issue in your current or previous workplace?\":\"neg_response\",\n",
    "    \"Do you have a family history of mental illness?\":\"mh_fam_hist\",\n",
    "    \"Have you had a mental health disorder in the past?\":\"mh_hist\",\n",
    "    \"Do you currently have a mental health disorder?\":\"mh_cur\",\n",
    "    \"Have you been diagnosed with a mental health condition by a medical professional?\":\"mh_diag_pro\",\n",
    "    \"Have you ever sought treatment for a mental health issue from a mental health professional?\":\"sought_treat\",\n",
    "    \"If you have a mental health issue, do you feel that it interferes with your work when being treated effectively?\":\"work_affect_effect\",\n",
    "    \"If you have a mental health issue, do you feel that it interferes with your work when NOT being treated effectively?\":\"work_affect_ineffect\",\n",
    "    \"What is your age?\":\"age\",\n",
    "    \"What is your gender?\":\"gender\",\n",
    "    \"What country do you work in?\":\"work_country\",\n",
    "    \"Do you work remotely?\":\"work_remote\"\n",
    "}\n",
    "\n",
    "df10=df10.rename(columns=df_rn_dt)\n"
   ]
  },
  {
   "cell_type": "code",
   "execution_count": null,
   "metadata": {},
   "outputs": [],
   "source": [
    "df10.head(1)"
   ]
  },
  {
   "cell_type": "markdown",
   "metadata": {},
   "source": [
    "## 3. Data Visualisations"
   ]
  },
  {
   "cell_type": "markdown",
   "metadata": {},
   "source": [
    "### 3.A Mental Health Status across Ages and Genders\n",
    "* The largest proportion of genders is held by males, followed by females and then others.\n",
    "* The proportion of males who do not currently have MHD is larger than the proportion of males who do.\n",
    "* This is different from that observed among females. The proportion of females who currently have MHD is larger than the proportion of females who do.\n",
    "* For others, most have MHD while none do not currently have MHD."
   ]
  },
  {
   "cell_type": "code",
   "execution_count": null,
   "metadata": {},
   "outputs": [],
   "source": [
    "g = sns.FacetGrid(df10,row=\"gender\",col=\"mh_cur\",size=4)\n",
    "g.map(plt.hist,'age',alpha=0.5,bins=15)\n",
    "g.add_legend()\n",
    "plt.show()"
   ]
  },
  {
   "cell_type": "markdown",
   "metadata": {},
   "source": [
    "### 3.B Mental Health Disorders (MHD)\n",
    "Notes on cleaning:\n",
    "* Some questions ask for MHD Diagnosed (MHDD) or Suspected (MHDS) and MHD diagnosed by professional (MHDDP).\n",
    "* MHDDP refer to MHDs that respondents have in the past and presently.\n",
    "* While MHDD and MHDS refer to MHDs that respondents have or suspect present.\n",
    "* I will clean up MHDD into a separate df and visualise it.\n",
    "* All 3 columns (MHDS, MHDDP) will be dropped from df5 to form df6.\n",
    "* Prior to MHD columns, respondents answer \"Do you currently have a mental health disorder?\" with Yes, No and Maybe.\n",
    "    * If yes, they largely answered MHDD.\n",
    "    * If maybe, they largely answered MHDS.\n",
    "* Answers to MHDD can include more than 1 MHD, separated by '|'.\n",
    "* Answeres to MHDD, for each MHD, includes a category name and sub disorders in '(...)'\n",
    "* Multiple disorders will be accounted for, but only the category name will be noted.\n",
    "\n",
    "Insights will be mentioned below the graph."
   ]
  },
  {
   "cell_type": "markdown",
   "metadata": {},
   "source": [
    "#### But first, some checks and cleaning up."
   ]
  },
  {
   "cell_type": "code",
   "execution_count": null,
   "metadata": {},
   "outputs": [],
   "source": [
    "df5[\"If so, what condition(s) were you diagnosed with?\"].describe()"
   ]
  },
  {
   "cell_type": "code",
   "execution_count": null,
   "metadata": {},
   "outputs": [],
   "source": [
    "# df5.describe(include='all')\n",
    "print(\"Responses to 'Do you have MHD?':\")\n",
    "print(df5[\"Do you currently have a mental health disorder?\"].value_counts())\n",
    "df5[[\"Do you currently have a mental health disorder?\",\n",
    "     \"If yes, what condition(s) have you been diagnosed with?\",\n",
    "    \"If maybe, what condition(s) do you believe you have?\"]].describe(include='all').iloc[0,:]\n"
   ]
  },
  {
   "cell_type": "code",
   "execution_count": null,
   "metadata": {},
   "outputs": [],
   "source": [
    "# extract column\n",
    "mhd_ser = df5[\"If yes, what condition(s) have you been diagnosed with?\"]\n",
    "# convert to dict\n",
    "mhd_dt = dict(mhd_ser.value_counts())\n",
    "mhd_dt\n"
   ]
  },
  {
   "cell_type": "code",
   "execution_count": null,
   "metadata": {},
   "outputs": [],
   "source": [
    "# create new dict to split and count diagnosis\n",
    "mhd = {}\n",
    "for dia, count in  mhd_dt.items():\n",
    "    dia_ls = dia.split('|')\n",
    "    for d in dia_ls:\n",
    "        d = d.split(' (')[0]\n",
    "        mhd[d] = mhd.get(d,0) + count\n",
    "mhd\n"
   ]
  },
  {
   "cell_type": "code",
   "execution_count": null,
   "metadata": {},
   "outputs": [],
   "source": [
    "# convert counter dict into df\n",
    "# append one entry for each count\n",
    "mhd_df = pd.DataFrame()\n",
    "for d in mhd:\n",
    "    mhd_df = mhd_df.append([d]*mhd[d])\n",
    "    \n",
    "# mass replacing values: group similar conditions under one category name\n",
    "mhd_df = mhd_df.rename(columns={0:\"Diagnosis\"})\n",
    "mhd_df[\"Diagnosis\"] = mhd_df[\"Diagnosis\"].replace(['Autism Spectrum Disorder',\n",
    "                            'Autism','Autism - while not a \"mental illness\", still greatly affects how I handle anxiety',\n",
    "                            'PDD-NOS','autism spectrum disorder','Autism spectrum disorder'],\"Austism\")\n",
    "\n",
    "mhd_df[\"Diagnosis\"] = mhd_df[\"Diagnosis\"].replace(['posttraumatic stress disourder','PTSD'],\n",
    "                                                  'Post-traumatic Stress Disorder')\n",
    "\n",
    "mhd_df[\"Diagnosis\"] = mhd_df[\"Diagnosis\"].replace(['Attention Deficit Disorder',\n",
    "                                                   'attention deficit disorder',\n",
    "                                                   'ADD'],'Attention Deficit Hyperactivity Disorder')\n",
    "\n",
    "mhd_df[\"Diagnosis\"] = mhd_df[\"Diagnosis\"].replace(['Schizotypal Personality Disorder'],\n",
    "                                                   'Personality Disorder')\n",
    "mhd_df[\"Diagnosis\"] = mhd_df[\"Diagnosis\"].replace(['Depression'],'Mood Disorder')\n",
    "mhd_df[\"Diagnosis\"] = mhd_df[\"Diagnosis\"].replace(['Depression'],'Mood Disorder')\n",
    "# mhd_df                                               \n"
   ]
  },
  {
   "cell_type": "code",
   "execution_count": null,
   "metadata": {},
   "outputs": [],
   "source": [
    "# observe value count\n",
    "mhd_df['Diagnosis'].value_counts()"
   ]
  },
  {
   "cell_type": "code",
   "execution_count": null,
   "metadata": {},
   "outputs": [],
   "source": [
    "# place rare MHD under Others\n",
    "mhd_df['Diagnosis']=mhd_df['Diagnosis'].replace([\n",
    "    'Seasonal Affective Disorder','Asperger Syndrome','Asperges',\n",
    "    'Suicidal Ideation','Gender Identity Disorder',\n",
    "    'Psychotic Disorder','Dissociative Disorder',\n",
    "    'Austism','Traumatic Brain Injury','Sleeping Disorder',\n",
    "'Pervasive Developmental Disorder','Sexual addiction',\n",
    "'Transgender'],'Others')\n",
    "mhd_df['Diagnosis'].value_counts()"
   ]
  },
  {
   "cell_type": "code",
   "execution_count": null,
   "metadata": {
    "scrolled": true
   },
   "outputs": [],
   "source": [
    "# plot\n",
    "plot_df = mhd_df['Diagnosis'].value_counts()\n",
    "\n",
    "fig = plt.figure(figsize=(16,8))\n",
    "\n",
    "ax1 = fig.add_subplot(111)\n",
    "\n",
    "plot_df.plot(kind='barh',ax=ax1)\n",
    "ax1.set_title(\"Mental Health Disorder Distribution\",fontsize=fs*2)\n",
    "ax1.set_ylabel(\"Disorder\",fontsize=fs)\n",
    "ax1.set_xlabel(\"Frequency\",fontsize=fs)\n",
    "\n",
    "total=plot_df.sum()\n",
    "[ax1.text(v+3,i-0.2,\n",
    "          '{}\\n{:.1f}%'.format(str(v),v/total*100),\n",
    "          fontsize=fs) for i, v in enumerate(plot_df)]\n",
    "\n",
    "plt.show()"
   ]
  },
  {
   "cell_type": "markdown",
   "metadata": {},
   "source": [
    "* Mood Disorders form the largest proportion of MHDs among the surveyed, at 35.3% or 322 out of 912 instances of MHDs.\n",
    "    * Mood Disorder causes one's general emotional state or mood to be distorted or inconsistent with circumstances, interfering with the one's ability to function.\n",
    "* Anxiety Disorder is 2nd at 29.3%.\n",
    "    * Anxiety Disorder also affects one's mood and often occurs alongside depression, which falls under Mood Disorders.\n",
    "    * This may be why Anxiety Disorder is the 2nd most frequent MHD among the surveyed, slightly less than the frequency of Mood Disorders but much more than the 3rd most frequent disorder.\n",
    "* ADHD is 3rd at 10.2%.\n",
    "* A myriad of other disorders follow at around 2.0-5.6% in frequency, or less than 56 persons among 1000.\n",
    "* Given that the most frequent disorders are Mood and Anxiety, which appear to largely affect the mood, it may not be a surprise that employers find it hard to accept or treat employees with these MHDs kindly.\n",
    "* That is, an employer may perceive employee to simply be moody or difficult than actually suffering from a disorder that requires medical attention.\n",
    "* Disorders like substance-abuse, PTSD, addictive might be more likely to raise medical concern, but these appear infrequently."
   ]
  },
  {
   "cell_type": "markdown",
   "metadata": {},
   "source": [
    "### 3.C Mental Health Status and Company Size\n",
    "* The varying proportions across company size is largely due to the distribution of company sizes.\n",
    "* For companies with 26-100 employees, there is a noticeably larger proportion of employees with current MHD than employees without.\n",
    "    * Furthermore, there is relatively less uncertainty (mh_cur = 2) for these companies.\n",
    "    * See how the proportion of people who are unsure is comparable across companies of sizes 6-25, 26-100, and 101-500, although the frequency of these companies differ.\n",
    "* Similarly for companies with 101-500 employees, although the increment is less obvious.\n",
    "* There is noticeably more people who do not have MHD in companies of size 501-1000 than people who do."
   ]
  },
  {
   "cell_type": "code",
   "execution_count": null,
   "metadata": {
    "scrolled": false
   },
   "outputs": [],
   "source": [
    "# Company Size Distribution\n",
    "plot_df = df10['num_employees'].value_counts().reset_index(name='n').rename(columns={\"index\":\"num_employees\"}).sort_values(\"num_employees\",ascending=False)\n",
    "fig = plt.figure(figsize=(16,8))\n",
    "ax1 = fig.add_subplot(111)\n",
    "plot_df.plot(kind='barh',x = \"num_employees\", y = \"n\",ax=ax1)\n",
    "ax1.set_title(\"Company Size by Employee Count Distribution\",fontsize=fs*2)\n",
    "ax1.set_ylabel(\"Employee Count\",fontsize=fs)\n",
    "ax1.set_xlabel(\"Frequency\",fontsize=fs)\n",
    "total=plot_df[\"n\"].sum()\n",
    "[ax1.text(v+3,i-0.2,\n",
    "          '{}\\n{:.1f}%'.format(str(v),v/total*100),\n",
    "          fontsize=fs) for i, v in enumerate(plot_df[\"n\"])]\n",
    "\n",
    "# Prevalence of MHD across Company Size and Age\n",
    "g = sns.FacetGrid(df10,row=\"num_employees\",col=\"mh_cur\",size=4)\n",
    "g.map(plt.hist,'age',alpha=0.5,bins=15)\n",
    "g.add_legend()\n",
    "\n",
    "plt.show()"
   ]
  },
  {
   "cell_type": "markdown",
   "metadata": {},
   "source": [
    "### 3.D Correlation Matrix of Features"
   ]
  },
  {
   "cell_type": "code",
   "execution_count": null,
   "metadata": {
    "scrolled": true
   },
   "outputs": [],
   "source": [
    "# obtain list of feat names\n",
    "cdf10 = col_ls(df10)\n"
   ]
  },
  {
   "cell_type": "code",
   "execution_count": null,
   "metadata": {},
   "outputs": [],
   "source": [
    "# create df where all -1 (N.A. responses) are replaced with np.NaN\n",
    "df10_nan=df10.replace({-1:np.NaN})\n",
    "df10_nan.describe()"
   ]
  },
  {
   "cell_type": "code",
   "execution_count": null,
   "metadata": {},
   "outputs": [],
   "source": [
    "# plot correlatin matrix\n",
    "corr = df10_nan.corr() # use df with NaN values\n",
    "fig = plt.figure(figsize=(16,16))\n",
    "ax = fig.add_subplot(111)\n",
    "cax = ax.matshow(corr,vmin=-1,vmax=1,\n",
    "                 cmap=sns.diverging_palette(10, 500, as_cmap=True))\n",
    "fig.colorbar(cax)\n",
    "names = cdf10\n",
    "ticks = np.arange(0,len(names),1)\n",
    "ax.set_xticks(ticks)\n",
    "ax.set_yticks(ticks)\n",
    "ax.set_xticklabels(names,fontsize=fs,rotation='vertical')\n",
    "ax.set_yticklabels(names, fontsize=fs)\n",
    "ax.set_title(\"Correlation Matrix of Features\",fontsize=fs*2,y=1.2)\n",
    "\n",
    "plt.show()"
   ]
  },
  {
   "cell_type": "markdown",
   "metadata": {},
   "source": [
    "There are a zones where correlation is stronger.\n",
    "* Top left: features regarding current employment.\n",
    "* Middle: features regarding past employment.\n",
    "* Middle, Bottom Right: features regarding future employment and views of others.\n",
    "* Bottom right: features regarding mental health history, diagnosis, treatment and effect upon work.\n",
    "* Bottom left (& Top right): features regarding sentiment towards mental health and comfort in sharing about it.\n",
    "\n",
    "NaN values are accounted for."
   ]
  },
  {
   "cell_type": "code",
   "execution_count": null,
   "metadata": {
    "scrolled": false
   },
   "outputs": [],
   "source": [
    "# top left: current employment\n",
    "cep_ls=cdf10[2:14]\n",
    "corr = df10_nan[cep_ls].corr()\n",
    "fig = plt.figure(figsize=(20,8))\n",
    "ax1 = fig.add_subplot(121)\n",
    "cax = ax1.matshow(corr,vmin=-1,vmax=1,\n",
    "                 cmap=sns.diverging_palette(10, 500, as_cmap=True))\n",
    "\n",
    "names = cep_ls\n",
    "ticks = np.arange(0,len(names),1)\n",
    "ax1.set_xticks(ticks)\n",
    "ax1.set_yticks(ticks)\n",
    "ax1.set_xticklabels(names,fontsize=fs,rotation='vertical')\n",
    "ax1.set_yticklabels(names, fontsize=fs)\n",
    "ax1.set_title(\"Correlation Matrix of Current Employment Features\",fontsize=fs,y=1.4)\n",
    "\n",
    "# fig.colorbar(cax) # intentionally left out for easier comparison between CM graphs\n",
    "\n",
    "# middle: previous employment\n",
    "pep_ls=cdf10[15:26]\n",
    "df_corr = df10_nan[pep_ls]\n",
    "corr = df_corr.corr()\n",
    "ax2 = fig.add_subplot(122)\n",
    "cax = ax2.matshow(corr,vmin=-1,vmax=1,\n",
    "                 cmap=sns.diverging_palette(10, 500, as_cmap=True))\n",
    "names = pep_ls\n",
    "ticks = np.arange(0,len(names),1)\n",
    "ax2.set_xticks(ticks)\n",
    "ax2.set_yticks(ticks)\n",
    "ax2.set_xticklabels(names,fontsize=fs,rotation='vertical')\n",
    "ax2.set_yticklabels(names, fontsize=fs)\n",
    "ax2.set_title(\"Correlation Matrix of Previous Employment Features\",fontsize=fs,y=1.4)\n",
    "\n",
    "plt.show()"
   ]
  },
  {
   "cell_type": "markdown",
   "metadata": {},
   "source": [
    "Notable correlations from Current Employment Features:\n",
    "* The lesser sense of threat from bringing up MH, the easier to obtain leave for MH issues.\n",
    "* The greater the sense of threat from bringing up PH, the greater the sense of threat from bring up MH.\n",
    "* The greater the comfort in sharing about MH with coworkers or supervisors, the easier to obtain leave for MH issues.\n",
    "* The more employer views MH as seriously as PH, the less the sense of threat from bringing up MH.\n",
    "\n",
    "Notable correlations from Previous Employment Features:\n",
    "* Features of previous employment related to company policy (e.g. availability of MH benefits) is more strongly positively related than compared to features of current employment.\n",
    "* However, the negative correlation between comfort of sharing about MH issues with supervisors & coworkers and sense of threat of raising MH issues is milder for previous employment than current employment.\n",
    "* The general direction of correlation is similar for both previous and current employment features."
   ]
  },
  {
   "cell_type": "code",
   "execution_count": null,
   "metadata": {},
   "outputs": [],
   "source": [
    "# middle, bottom right: future employment and perceptions\n",
    "fep_ls=cdf10[26:31]\n",
    "corr = df10_nan[fep_ls].corr()\n",
    "fig = plt.figure(figsize=(8,8))\n",
    "ax = fig.add_subplot(111)\n",
    "cax = ax.matshow(corr,vmin=-1,vmax=1,\n",
    "                 cmap=sns.diverging_palette(10, 500, as_cmap=True))\n",
    "fig.colorbar(cax)\n",
    "names = fep_ls\n",
    "ticks = np.arange(0,len(names),1)\n",
    "ax.set_xticks(ticks)\n",
    "ax.set_yticks(ticks)\n",
    "ax.set_xticklabels(names,fontsize=fs,rotation='vertical')\n",
    "ax.set_yticklabels(names, fontsize=fs)\n",
    "ax.set_title(\"Correlation Matrix of Future Employment Features\",fontsize=fs,y=1.4)\n",
    "\n",
    "plt.show()"
   ]
  },
  {
   "cell_type": "markdown",
   "metadata": {},
   "source": [
    "Notable correlations from Future Employment Features:\n",
    "* The more willing one is with sharing about PH, the more willing one is with sharing about MH.\n",
    "* The more one feels that being identified as having MHD will hurt one's career, the less willing one is to share about MH.\n",
    "* The more one feels that coworkers will view one more negatively if one has MHD, the more one feels that being identified as having MHD will hurt one's career."
   ]
  },
  {
   "cell_type": "code",
   "execution_count": null,
   "metadata": {
    "scrolled": false
   },
   "outputs": [],
   "source": [
    "# bottom right: mental health history\n",
    "mhh_ls=cdf10[30:39]\n",
    "corr = df10_nan[mhh_ls].corr()\n",
    "fig = plt.figure(figsize=(8,8))\n",
    "ax = fig.add_subplot(111)\n",
    "cax = ax.matshow(corr,vmin=-1,vmax=1,\n",
    "                 cmap=sns.diverging_palette(10, 500, as_cmap=True))\n",
    "fig.colorbar(cax)\n",
    "names = mhh_ls\n",
    "ticks = np.arange(0,len(names),1)\n",
    "ax.set_xticks(ticks)\n",
    "ax.set_yticks(ticks)\n",
    "ax.set_xticklabels(names,fontsize=fs,rotation='vertical')\n",
    "ax.set_yticklabels(names, fontsize=fs)\n",
    "ax.set_title(\"Correlation Matrix of Mental Health History Features\",fontsize=fs,y=1.4)\n",
    "\n",
    "plt.show()"
   ]
  },
  {
   "cell_type": "markdown",
   "metadata": {},
   "source": [
    "Notable correlations from Mental Health History Features:\n",
    "* The strongest correlations are found in this slice of the general CM.\n",
    "* One's comfort in sharing with family and friends is surprisingly only mildly or not correlated with features like\n",
    "    * one's experience or observation of negative response to opening up about MH issues\n",
    "    * one's family history of MH issues\n",
    "    * one's current or historical MH status\n",
    "* As expected, if one has a history of MHD or has been professionally diagnosed, one is more likely to have sought treatment for MHD.\n",
    "* There seems to be no correlation between the degree of MHD's interference with work (when treated effectively) and whether one has sought treatment for MHD.\n",
    "    * However, the more one finds that work is interfered when MHD is not effectively treated, the more likely one has sought treatment for MHD."
   ]
  },
  {
   "cell_type": "code",
   "execution_count": null,
   "metadata": {},
   "outputs": [],
   "source": [
    "# bottomn left: current employment and future employment\n",
    "cfep_ls = cdf10[7:13] + cdf10[26:31]\n",
    "corr = df10_nan[cfep_ls].corr()\n",
    "fig = plt.figure(figsize=(8,8))\n",
    "ax = fig.add_subplot(111)\n",
    "cax = ax.matshow(corr,vmin=-1,vmax=1,\n",
    "                 cmap=sns.diverging_palette(10, 500, as_cmap=True))\n",
    "fig.colorbar(cax)\n",
    "names = cfep_ls\n",
    "ticks = np.arange(0,len(names),1)\n",
    "ax.set_xticks(ticks)\n",
    "ax.set_yticks(ticks)\n",
    "ax.set_xticklabels(names,fontsize=fs,rotation='vertical')\n",
    "ax.set_yticklabels(names, fontsize=fs)\n",
    "ax.set_title(\"Correlation Matrix of Current and Future Employment Features\",fontsize=fs,y=1.4)\n",
    "\n",
    "plt.show()"
   ]
  },
  {
   "cell_type": "markdown",
   "metadata": {},
   "source": [
    "Notable correlations from Current and Future Employment Features:\n",
    "* Current experiences affect future willingness.\n",
    "* The more one senses a threat of negative consequences when raising MH concerns with current employer, the less likely one is willing to raise MH issues with future employers.\n",
    "    * And more likely one will feel that being identified as having MHD will hurt one's career and cause coworkers to view one negatively.\n",
    "* The more willing one is with sharing about PH with future employers, the more willing one is with sharing about MH as well.\n",
    "* The more one feels that coworkers will view one negatively for having MHD, the more one feels that being identified as having MHD will hurt one's career.\n"
   ]
  },
  {
   "cell_type": "markdown",
   "metadata": {},
   "source": [
    "## 4. Classifiers"
   ]
  },
  {
   "cell_type": "markdown",
   "metadata": {},
   "source": [
    "* Predict degree of comfort in sharing about MH issues with Future Employers (\"fep_mh_willing\") based on profile and current & past experiences.\n",
    "* Predict whether one will seek professional diagnosis (\"mh_diag_pro\") based on profile and current & past experiences.\n",
    "* Predict whether one will seek treatment (\"sought_treatment\") based on profile and current & past experiences."
   ]
  },
  {
   "cell_type": "code",
   "execution_count": null,
   "metadata": {
    "scrolled": true
   },
   "outputs": [],
   "source": [
    "# prepare x variables\n",
    "profile_ls = cdf10[0:2] + cdf10[30:31] + cdf10[32:35] + cdf10[39:]\n",
    "cpep_ls = cdf10[2:14] + cdf10[14:26] + cdf10[28:30] + cdf10[31:32] + cdf10[37:39]\n",
    "# profile_ls\n",
    "# cpep_ls\n",
    "x_col = profile_ls + cpep_ls\n",
    "x_col\n"
   ]
  },
  {
   "cell_type": "code",
   "execution_count": null,
   "metadata": {},
   "outputs": [],
   "source": [
    "# prepare y variables\n",
    "y1_col = \"fep_mh_willing\"\n",
    "y2_col = \"mh_diag_pro\"\n",
    "y3_col = \"sought_treat\"\n"
   ]
  },
  {
   "cell_type": "code",
   "execution_count": null,
   "metadata": {},
   "outputs": [],
   "source": [
    "X = df10[x_col]\n",
    "y1 = df10[y1_col]\n",
    "y2 = df10[y2_col]\n",
    "y3 = df10[y3_col]"
   ]
  },
  {
   "cell_type": "markdown",
   "metadata": {},
   "source": [
    "### 4.A RFC: Openness about MH with Future Employer (93%)"
   ]
  },
  {
   "cell_type": "code",
   "execution_count": null,
   "metadata": {},
   "outputs": [],
   "source": [
    "from sklearn.model_selection import train_test_split\n",
    "from sklearn.ensemble import RandomForestClassifier"
   ]
  },
  {
   "cell_type": "code",
   "execution_count": null,
   "metadata": {
    "scrolled": true
   },
   "outputs": [],
   "source": [
    "# prep for y1\n",
    "X_train, X_test, y_train, y_test = train_test_split(X, y1, \n",
    "                                                    test_size = 0.25,\n",
    "                                                   random_state=42)\n",
    "print(X_train.count())\n",
    "print(y_train.count())\n",
    "print(X_test.count())\n",
    "print(y_test.count())"
   ]
  },
  {
   "cell_type": "code",
   "execution_count": null,
   "metadata": {},
   "outputs": [],
   "source": [
    "clf = RandomForestClassifier(n_estimators=200, random_state=0)  \n",
    "clf.fit(X_train, y_train)  \n",
    "# y_pred = clf.predict(X_test)"
   ]
  },
  {
   "cell_type": "code",
   "execution_count": null,
   "metadata": {},
   "outputs": [],
   "source": [
    "# Returns the mean accuracy on the given test data and labels.\n",
    "clf.score(X,y1)\n",
    "# 0.9221927497789567"
   ]
  },
  {
   "cell_type": "code",
   "execution_count": null,
   "metadata": {},
   "outputs": [],
   "source": [
    "print(clf.feature_importances_)"
   ]
  },
  {
   "cell_type": "code",
   "execution_count": null,
   "metadata": {
    "scrolled": true
   },
   "outputs": [],
   "source": [
    "y1_feat_impt = list(clf.feature_importances_)\n",
    "y1_feat_impt\n",
    "y1_df = pd.DataFrame({\"Feature\":x_col,\"Importance\":y1_feat_impt})\n",
    "y1_sort_df = y1_df.sort_values(\"Importance\")"
   ]
  },
  {
   "cell_type": "code",
   "execution_count": null,
   "metadata": {
    "scrolled": true
   },
   "outputs": [],
   "source": [
    "fig = plt.figure(figsize=dim)\n",
    "ax1 = fig.add_subplot(111)\n",
    "\n",
    "y1_sort_df.plot(kind='barh',ax=ax1,x=\"Feature\",y=\"Importance\")\n",
    "\n",
    "ax1.set_title(\"Willingess to Share with Future Employer: Feature Importance\",fontsize=fs)\n",
    "ax1.set_ylabel(\"Feature\",fontsize=fs)\n",
    "ax1.set_xlabel(\"Importance\",fontsize=fs)\n",
    "\n",
    "plt.show()"
   ]
  },
  {
   "cell_type": "markdown",
   "metadata": {},
   "source": [
    "* Age is the most important predictor, although there appears to be no linear correlation with willingess to share about MH with future employer, as observed in the Correlation MAtrix (CM) below.\n",
    "* The sentiment that being identified as having MHD as detrimental to one's career is the next most mportant predictor.\n",
    "* Intuitively, the more one feels that being identified with MHD will hurt one's career, the less likely one will bring it up with a future employer."
   ]
  },
  {
   "cell_type": "code",
   "execution_count": null,
   "metadata": {},
   "outputs": [],
   "source": [
    "# To study the links between openness with future employer, age and career prospect\n",
    "tmp = cdf10[27:29] + cdf10[39:40]\n",
    "corr = df10_nan[tmp].corr()\n",
    "fig = plt.figure(figsize=(8,8))\n",
    "ax = fig.add_subplot(111)\n",
    "cax = ax.matshow(corr,vmin=-1,vmax=1,\n",
    "                 cmap=sns.diverging_palette(10, 500, as_cmap=True))\n",
    "fig.colorbar(cax)\n",
    "names = tmp\n",
    "ticks = np.arange(0,len(names),1)\n",
    "ax.set_xticks(ticks)\n",
    "ax.set_yticks(ticks)\n",
    "ax.set_xticklabels(names,fontsize=fs,rotation='vertical')\n",
    "ax.set_yticklabels(names, fontsize=fs)\n",
    "ax.set_title(\"CM of Age, Career Prospects and Openness with Future Employment\",fontsize=fs,y=1.4)\n",
    "\n",
    "plt.show()"
   ]
  },
  {
   "cell_type": "markdown",
   "metadata": {},
   "source": [
    "### 4.B RFC: Seeking Professional Diagnosis (90+%)"
   ]
  },
  {
   "cell_type": "code",
   "execution_count": null,
   "metadata": {
    "scrolled": true
   },
   "outputs": [],
   "source": [
    "# prep for y1\n",
    "X_train, X_test, y_train, y_test = train_test_split(X, y2, \n",
    "                                                    test_size = 0.25,\n",
    "                                                   )\n",
    "print(X_train.count())\n",
    "print(y_train.count())\n",
    "print(X_test.count())\n",
    "print(y_test.count())"
   ]
  },
  {
   "cell_type": "code",
   "execution_count": null,
   "metadata": {},
   "outputs": [],
   "source": [
    "clf2 = RandomForestClassifier(n_estimators=200, random_state=0)  \n",
    "clf2.fit(X_train, y_train)  \n",
    "# y_pred = clf.predict(X_test)"
   ]
  },
  {
   "cell_type": "code",
   "execution_count": null,
   "metadata": {},
   "outputs": [],
   "source": [
    "# Returns the mean accuracy on the given test data and labels.\n",
    "clf2.score(X,y2)\n",
    "# 0.9664014146772767"
   ]
  },
  {
   "cell_type": "code",
   "execution_count": null,
   "metadata": {},
   "outputs": [],
   "source": [
    "print(clf2.feature_importances_)"
   ]
  },
  {
   "cell_type": "code",
   "execution_count": null,
   "metadata": {
    "scrolled": true
   },
   "outputs": [],
   "source": [
    "y2_feat_impt = list(clf2.feature_importances_)\n",
    "# y2_feat_impt\n",
    "y2_df = pd.DataFrame({\"Feature\":x_col,\"Importance\":y2_feat_impt})\n",
    "y2_sort_df = y2_df.sort_values(\"Importance\")"
   ]
  },
  {
   "cell_type": "code",
   "execution_count": null,
   "metadata": {
    "scrolled": true
   },
   "outputs": [],
   "source": [
    "fig = plt.figure(figsize=dim)\n",
    "ax1 = fig.add_subplot(111)\n",
    "\n",
    "y2_sort_df.plot(kind='barh',ax=ax1,x=\"Feature\",y=\"Importance\")\n",
    "\n",
    "ax1.set_title(\"Seeking Professional Diagnosis: Feature Importance\",fontsize=fs)\n",
    "ax1.set_ylabel(\"Feature\",fontsize=fs)\n",
    "ax1.set_xlabel(\"Importance\",fontsize=fs)\n",
    "\n",
    "plt.show()"
   ]
  },
  {
   "cell_type": "markdown",
   "metadata": {},
   "source": [
    "#### Drop some features that presuppose Diagnosis\n",
    "* It might be better to drop the features mh_hist, mh_cur, work_affect_effect, work_affect_ineffect as these features are dependent on one having sought professional diagnosis.\n",
    "* This dependence led to overly high feature importance."
   ]
  },
  {
   "cell_type": "code",
   "execution_count": null,
   "metadata": {},
   "outputs": [],
   "source": [
    "# drop features and retry classifier\n",
    "try:\n",
    "    X = X.drop([\"mh_hist\",\"mh_cur\",\"work_affect_effect\", \"work_affect_ineffect\"],axis=1)\n",
    "except: print(err_msg)"
   ]
  },
  {
   "cell_type": "code",
   "execution_count": null,
   "metadata": {
    "scrolled": true
   },
   "outputs": [],
   "source": [
    "# prep for y1\n",
    "X_train, X_test, y_train, y_test = train_test_split(X, y2, \n",
    "                                                    test_size = 0.25)\n",
    "print(X_train.count())\n",
    "print(y_train.count())\n",
    "print(X_test.count())\n",
    "print(y_test.count())"
   ]
  },
  {
   "cell_type": "code",
   "execution_count": null,
   "metadata": {},
   "outputs": [],
   "source": [
    "clf2 = RandomForestClassifier(n_estimators=200, random_state=0)  \n",
    "clf2.fit(X_train, y_train)  \n",
    "# y_pred = clf.predict(X_test)"
   ]
  },
  {
   "cell_type": "code",
   "execution_count": null,
   "metadata": {},
   "outputs": [],
   "source": [
    "# Returns the mean accuracy on the given test data and labels.\n",
    "clf2.score(X,y2)\n",
    "# 0.9310344827586207, drop from 0.9752431476569408\n",
    "# but still pretty accurate"
   ]
  },
  {
   "cell_type": "code",
   "execution_count": null,
   "metadata": {},
   "outputs": [],
   "source": [
    "print(clf2.feature_importances_)"
   ]
  },
  {
   "cell_type": "code",
   "execution_count": null,
   "metadata": {
    "scrolled": true
   },
   "outputs": [],
   "source": [
    "y2_feat_impt = list(clf2.feature_importances_)\n",
    "# y2_feat_impt\n",
    "y2_df = pd.DataFrame({\"Feature\":X.columns.tolist(),\"Importance\":y2_feat_impt})\n",
    "y2_sort_df = y2_df.sort_values(\"Importance\")"
   ]
  },
  {
   "cell_type": "code",
   "execution_count": null,
   "metadata": {
    "scrolled": true
   },
   "outputs": [],
   "source": [
    "fig = plt.figure(figsize=dim)\n",
    "ax1 = fig.add_subplot(111)\n",
    "\n",
    "y2_sort_df.plot(kind='barh',ax=ax1,x=\"Feature\",y=\"Importance\")\n",
    "\n",
    "ax1.set_title(\"Seeking Professional Diagnosis: Feature Importance\",fontsize=fs)\n",
    "ax1.set_ylabel(\"Feature\",fontsize=fs)\n",
    "ax1.set_xlabel(\"Importance\",fontsize=fs)\n",
    "\n",
    "plt.show()"
   ]
  },
  {
   "cell_type": "markdown",
   "metadata": {},
   "source": [
    "* Having a family history of MH issues is the most important predictor of seeking professional diagnosis.\n",
    "* Age and openness in sharing about MHD with family or friends are also important predictors over the remaining features.\n",
    "    * The older, the more likely to seek professional diagnosis.\n",
    "    * The more comfortable with family or friends, the more likely to seek diagnosis.\n",
    "* The most important predictors related to current employment are knowing the MH care options provided by current employment as well as ease of obtaining leave for MH.\n",
    "    * The more one knows one's options with current employer, the more one may seek diagnosis.\n",
    "    * Curiously, the harder to obtain leave for MH, the more likely one may seek diagnosis.\n",
    "* The experience of negative responses to MH issues is a similarly important predictor.\n",
    "    * The less negative response experienced or observed, the more one may seek diagnosis. "
   ]
  },
  {
   "cell_type": "code",
   "execution_count": null,
   "metadata": {},
   "outputs": [],
   "source": [
    "# To study the links between openness with future employer, age and career prospect\n",
    "tmp = cdf10[35:36] + cdf10[32:33] + cdf10[39:40] + cdf10[30:31] + cdf10[3:4] + cdf10[7:8] + cdf10[31:32]\n",
    "corr = df10_nan[tmp].corr()\n",
    "fig = plt.figure(figsize=(8,8))\n",
    "ax = fig.add_subplot(111)\n",
    "cax = ax.matshow(corr,vmin=-1,vmax=1,\n",
    "                 cmap=sns.diverging_palette(10, 500, as_cmap=True))\n",
    "fig.colorbar(cax)\n",
    "names = tmp\n",
    "ticks = np.arange(0,len(names),1)\n",
    "ax.set_xticks(ticks)\n",
    "ax.set_yticks(ticks)\n",
    "ax.set_xticklabels(names,fontsize=fs,rotation='vertical')\n",
    "ax.set_yticklabels(names, fontsize=fs)\n",
    "ax.set_title(\"CM of Age, Career Prospects and Openness with Future Employment\",fontsize=fs,y=1.4)\n",
    "\n",
    "plt.show()"
   ]
  },
  {
   "cell_type": "markdown",
   "metadata": {},
   "source": [
    "### 4.C RFC: Seeking Treatment (90+%)"
   ]
  },
  {
   "cell_type": "code",
   "execution_count": null,
   "metadata": {},
   "outputs": [],
   "source": [
    "# reset X\n",
    "X = df10[x_col]"
   ]
  },
  {
   "cell_type": "code",
   "execution_count": null,
   "metadata": {
    "scrolled": true
   },
   "outputs": [],
   "source": [
    "# prep for y1\n",
    "X_train, X_test, y_train, y_test = train_test_split(X, y3, \n",
    "                                                    test_size = 0.25,\n",
    "                                                   )\n",
    "print(X_train.count())\n",
    "print(y_train.count())\n",
    "print(X_test.count())\n",
    "print(y_test.count())"
   ]
  },
  {
   "cell_type": "code",
   "execution_count": null,
   "metadata": {},
   "outputs": [],
   "source": [
    "clf3 = RandomForestClassifier(n_estimators=200, random_state=0)  \n",
    "clf3.fit(X_train, y_train)  \n",
    "# y_pred = clf.predict(X_test)"
   ]
  },
  {
   "cell_type": "code",
   "execution_count": null,
   "metadata": {},
   "outputs": [],
   "source": [
    "# Returns the mean accuracy on the given test data and labels.\n",
    "clf3.score(X,y3)\n",
    "# 0.969053934571176"
   ]
  },
  {
   "cell_type": "code",
   "execution_count": null,
   "metadata": {},
   "outputs": [],
   "source": [
    "print(clf3.feature_importances_)"
   ]
  },
  {
   "cell_type": "code",
   "execution_count": null,
   "metadata": {
    "scrolled": true
   },
   "outputs": [],
   "source": [
    "y3_feat_impt = list(clf.feature_importances_)\n",
    "# y3_feat_impt\n",
    "y3_df = pd.DataFrame({\"Feature\":x_col,\"Importance\":y3_feat_impt})\n",
    "y3_sort_df = y3_df.sort_values(\"Importance\")"
   ]
  },
  {
   "cell_type": "code",
   "execution_count": null,
   "metadata": {
    "scrolled": true
   },
   "outputs": [],
   "source": [
    "fig = plt.figure(figsize=dim)\n",
    "ax1 = fig.add_subplot(111)\n",
    "\n",
    "y3_sort_df.plot(kind='barh',ax=ax1,x=\"Feature\",y=\"Importance\")\n",
    "\n",
    "ax1.set_title(\"Seeking Treatment: Feature Importance\",fontsize=fs)\n",
    "ax1.set_ylabel(\"Feature\",fontsize=fs)\n",
    "ax1.set_xlabel(\"Importance\",fontsize=fs)\n",
    "\n",
    "plt.show()"
   ]
  },
  {
   "cell_type": "markdown",
   "metadata": {},
   "source": [
    "* Age is the most important predictor (again). The older one is, the more likely one will have sought treatment.\n",
    "* The sentiment that being identified as having MHD as detrimental to one's career is the next most mportant predictor.\n",
    "* Intuitively, the more one feels that being identified with MHD will hurt one's career, the more likely one would have sought treatment for it."
   ]
  },
  {
   "cell_type": "code",
   "execution_count": null,
   "metadata": {},
   "outputs": [],
   "source": [
    "# To study the links between openness with future employer, age and career prospect\n",
    "tmp = cdf10[36:37] + cdf10[39:40] + cdf10[28:29]\n",
    "corr = df10_nan[tmp].corr()\n",
    "fig = plt.figure(figsize=(8,8))\n",
    "ax = fig.add_subplot(111)\n",
    "cax = ax.matshow(corr,vmin=-1,vmax=1,\n",
    "                 cmap=sns.diverging_palette(10, 500, as_cmap=True))\n",
    "fig.colorbar(cax)\n",
    "names = tmp\n",
    "ticks = np.arange(0,len(names),1)\n",
    "ax.set_xticks(ticks)\n",
    "ax.set_yticks(ticks)\n",
    "ax.set_xticklabels(names,fontsize=fs,rotation='vertical')\n",
    "ax.set_yticklabels(names, fontsize=fs)\n",
    "ax.set_title(\"CM of Age, Career Prospects and Openness with Future Employment\",fontsize=fs,y=1.4)\n",
    "\n",
    "plt.show()"
   ]
  },
  {
   "cell_type": "markdown",
   "metadata": {},
   "source": [
    "## 5. Credits\n",
    "* Dataset: https://www.kaggle.com/osmi/mental-health-in-tech-2016\n",
    "* With some reference and inspiration from:\n",
    "    * Data Visualisation Python Seaborn kernel [https://www.kaggle.com/jchen2186/data-visualization-with-python-seaborn]\n",
    "    * Preprocessing and Random Forest with 87% accuracy kernel [https://www.kaggle.com/h1rshit/preprocessing-and-random-forest-with-87-accuracy]"
   ]
  }
 ],
 "metadata": {
  "kernelspec": {
   "display_name": "Python 3",
   "language": "python",
   "name": "python3"
  },
  "language_info": {
   "codemirror_mode": {
    "name": "ipython",
    "version": 3
   },
   "file_extension": ".py",
   "mimetype": "text/x-python",
   "name": "python",
   "nbconvert_exporter": "python",
   "pygments_lexer": "ipython3",
   "version": "3.7.3"
  }
 },
 "nbformat": 4,
 "nbformat_minor": 1
}
